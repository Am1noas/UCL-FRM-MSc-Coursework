{
 "cells": [
  {
   "cell_type": "markdown",
   "metadata": {
    "collapsed": false,
    "deletable": false,
    "editable": false,
    "nbgrader": {
     "grade": false,
     "grade_id": "4c81d8",
     "locked": true,
     "schema_version": 3,
     "solution": false,
     "task": false
    }
   },
   "source": [
    "# Market risk and portfolio theory - MATH0094\n",
    "## In class exam\n",
    "### November 21 - 2022\n",
    "\n",
    "\n",
    "Time: 1h 30 minutes.\n",
    "Marks for each question are indicated in square brackets.\n",
    "\n",
    "\n",
    "### Instructions\n",
    "- The exam has to be completely done in the corresponding CoCalc folder. Apart from this you only require pen and paper.\n",
    "- You can only use the material available in Cocalc including the Python documentation available from the Help. \n",
    "- You can only ask to clarify something on the paper. No request for help is accepted unless an unexpected technical problem arises.\n",
    "- You can add as many cells as needed. Bear in mind that some of the cells you start with are 'read only': you cannot modify these cells\n",
    "- I have provided some tests to help you. You can run them by clicking on the 'validate' button (no errors, means you pass the pre-delivered tests). \n",
    "- Explain your code using both comments and Markdown cells as needed.\n",
    "\n",
    "\n",
    "**Important:** You must accept to solve this assessment in accordance to the above instructions and UCL's code of honour. Please type the following sentence in the next cell: \"I will answer this paper in accordance with the given instructions and UCL's code of honour\".\n",
    "\n"
   ]
  },
  {
   "cell_type": "markdown",
   "metadata": {
    "collapsed": false
   },
   "source": []
  },
  {
   "cell_type": "code",
   "execution_count": 2,
   "metadata": {
    "collapsed": false
   },
   "outputs": [],
   "source": [
    "# Some packages you might need in the following\n",
    "\n",
    "from nose.tools import assert_equal, assert_raises  # Some functions to produce validations\n",
    "import numpy as np\n",
    "import matplotlib.pylab as plt\n",
    "import scipy.stats as st\n",
    "from numpy.random import default_rng\n",
    "from scipy.optimize import minimize \n",
    "import math"
   ]
  },
  {
   "cell_type": "markdown",
   "metadata": {
    "collapsed": false,
    "deletable": false,
    "editable": false,
    "nbgrader": {
     "grade": false,
     "grade_id": "44f639",
     "locked": true,
     "schema_version": 3,
     "solution": false,
     "task": false
    }
   },
   "source": [
    "# Preliminaries\n",
    "\n",
    "## Market model\n",
    "\n",
    "Consider a **one-period** market model. The market is defined on a probability space $(\\Omega,\\mathbb P,\\mathcal F)$ where $\\Omega = \\{1,2, \\ldots,m \\}$, $\\mathcal F = \\mathcal P(\\Omega)= 2^\\Omega$ and the probability $\\mathbb P$ is such that $\\mathbb P\\{\\omega = i \\} = p_i$. We denote in what follows  $\\mathbf p = (p_1, \\ldots, p_m)$.\n",
    "\n",
    "The market model has n+1 assets. The returns of the assets at time one for all scenarios are given by a matrix $R_{mat} = \\{ R^i_1(j)\\}_{i=0, \\ldots, n; j=1, \\ldots, m } \\in \\R^{(n+1)\\times m} $."
   ]
  },
  {
   "cell_type": "markdown",
   "metadata": {
    "collapsed": false
   },
   "source": [
    "# Questions"
   ]
  },
  {
   "cell_type": "markdown",
   "metadata": {
    "collapsed": false,
    "deletable": false,
    "editable": false,
    "nbgrader": {
     "grade": false,
     "grade_id": "191357",
     "locked": true,
     "schema_version": 3,
     "solution": false,
     "task": false
    }
   },
   "source": [
    "\n",
    "## Condor option\n",
    "\n",
    "A unit condor option on the asset $i$, centred at $x_0$, upper amplitude $a$ and lower amplitude $b$, is a contingent claim that pays at time one a payoff $\\Psi(S^i_1; x_0,a,b)$ where\n",
    "\n",
    "$$\\Psi(x;x_0,a,b)= \\begin{cases}1 & \\text{if }  |x-x_0| \\leq a \\\\ \\frac{ b-|x-x_0|}{b-a} & \\text{if } |x-x_0|\\in (a,b)\\\\ 0 & \\text{otherwise} \\end{cases}$$\n",
    "\n",
    "where $0 \\leq a<b; x_0 \\in \\R$\n",
    "\n",
    "\n"
   ]
  },
  {
   "cell_type": "markdown",
   "metadata": {
    "collapsed": false,
    "deletable": false,
    "editable": false,
    "nbgrader": {
     "grade": false,
     "grade_id": "949bc3",
     "locked": true,
     "schema_version": 3,
     "solution": false,
     "task": false
    }
   },
   "source": [
    "### Q1.\n",
    "**Implement the condor payoff  $\\Psi$. Take care of validating the relations of $a$ and $b$. Then, plot it for the case when $x_0=100$, $a=10, b=20$ for values of $x$ between 60 and 140.** [25 marks]"
   ]
  },
  {
   "cell_type": "code",
   "execution_count": 15,
   "metadata": {
    "collapsed": false,
    "deletable": false,
    "nbgrader": {
     "cell_type": "code",
     "checksum": "38644101bc4dba22bc4dc4ead4f80cb2",
     "grade": false,
     "grade_id": "37473e",
     "locked": false,
     "schema_version": 3,
     "solution": true,
     "task": false
    }
   },
   "outputs": [
    {
     "name": "stdout",
     "output_type": "stream",
     "text": [
      "1\n"
     ]
    }
   ],
   "source": [
    "def condor_payoff(x,x0,a,b):\n",
    "    \"\"\"\n",
    "    Compute the butterfly payoff having width 'd>0' and center 'x0' for a real 'x'\n",
    "    \"\"\"\n",
    "    # YOUR CODE HERE\n",
    "    if a < 0:\n",
    "        raise ValueError()\n",
    "    elif b <= a:\n",
    "        raise ValueError()\n",
    "    elif abs(x - x0) <= a:\n",
    "        return 1\n",
    "    elif abs(x - x0) >= b:\n",
    "        return 0\n",
    "    else:\n",
    "        return (b - abs(x - x0))/(b-a)\n",
    "    raise NotImplementedError()\n"
   ]
  },
  {
   "cell_type": "code",
   "execution_count": 16,
   "metadata": {
    "collapsed": false,
    "deletable": false,
    "editable": false,
    "nbgrader": {
     "grade": true,
     "grade_id": "q1_code",
     "locked": true,
     "points": 17,
     "schema_version": 3,
     "solution": false,
     "task": false
    }
   },
   "outputs": [],
   "source": [
    "# check implementation\n",
    "\n",
    "assert math.isclose(condor_payoff(1,1,0.1,0.2),1, abs_tol=1e-10)\n",
    "assert math.isclose(condor_payoff(0.2,1,0.1,0.2),0, abs_tol=1e-10)\n",
    "assert math.isclose(condor_payoff(1.2,1,0.1,0.2),0, abs_tol=1e-10)\n",
    "\n",
    "\n",
    "# Check that the function raises an error for invalid input\n",
    "assert_raises(TypeError, condor_payoff, 'a',1,1,2)\n",
    "assert_raises(ValueError, condor_payoff, 1,1,-1,2)\n",
    "assert_raises(ValueError, condor_payoff, 1,1,2,1)\n"
   ]
  },
  {
   "cell_type": "markdown",
   "metadata": {
    "collapsed": false,
    "deletable": false,
    "editable": false,
    "nbgrader": {
     "grade": false,
     "grade_id": "44a755",
     "locked": true,
     "schema_version": 3,
     "solution": false,
     "task": false
    }
   },
   "source": [
    "Write the code for the plot below:"
   ]
  },
  {
   "cell_type": "code",
   "execution_count": 74,
   "metadata": {
    "collapsed": false,
    "deletable": false,
    "nbgrader": {
     "cell_type": "code",
     "checksum": "3b948f862b3ab508322dc45d865925a1",
     "grade": true,
     "grade_id": "q1_plot",
     "locked": false,
     "points": 8,
     "schema_version": 3,
     "solution": true,
     "task": false
    }
   },
   "outputs": [
    {
     "data": {
      "text/plain": [
       "Text(0, 0.5, 'payoff')"
      ]
     },
     "execution_count": 74,
     "metadata": {},
     "output_type": "execute_result"
    },
    {
     "data": {
      "image/png": "[encoded data removed]",
      "text/plain": [
       "<Figure size 864x504 with 1 Axes>"
      ]
     },
     "execution_count": 74,
     "metadata": {
      "image/png": {
       "height": 440,
       "width": 720
      },
      "needs_background": "light"
     },
     "output_type": "execute_result"
    }
   ],
   "source": [
    "# YOUR CODE HERE\n",
    "x = np.arange(60, 140, 1)\n",
    "y = []\n",
    "for xi in x:\n",
    "    y.append(condor_payoff(xi, 100, 10, 20))\n",
    "y = np.asarray(y)\n",
    "plt.plot(x, y)\n",
    "plt.title('condor payoff')\n",
    "plt.xlabel('asset price')\n",
    "plt.ylabel('payoff')\n",
    "\n",
    "\n",
    "#raise NotImplementedError() # Delete this line once you implement your code"
   ]
  },
  {
   "cell_type": "markdown",
   "metadata": {
    "collapsed": false
   },
   "source": [
    "### Q2. \n",
    "\n",
    "**Assume that $n+1 = m$ (so that $R_{mat}$ is a square matrix) and that the market is complete. Write a function such that, given the matrix $Rmat$ and the values of a wealth profile at time $1$, produces a strategy to replicate $W$ in terms of amount invested on each asset.** \n",
    "\n",
    " **The function should raise a ValueError if any of the following occur: i)If the market is not complete, ii) if the matrix is not square, and iii)if the zero asset is not risk-free.** [20 marks]\n",
    "\n"
   ]
  },
  {
   "cell_type": "code",
   "execution_count": 42,
   "metadata": {
    "collapsed": false,
    "deletable": false,
    "nbgrader": {
     "cell_type": "code",
     "checksum": "69a31cd023c37e362a7608003486f6b9",
     "grade": false,
     "grade_id": "q-replicate",
     "locked": false,
     "schema_version": 3,
     "solution": true,
     "task": false
    }
   },
   "outputs": [],
   "source": [
    "def replication_strategy(Rmat,W):  \n",
    "    \"\"\"\n",
    "    Compute the replication strategy\n",
    "    \"\"\"\n",
    "    # YOUR CODE HERE\n",
    "    n = Rmat.shape[0]\n",
    "    m = W.shape[0]\n",
    "    if n != m:\n",
    "        raise ValueError()\n",
    "    elif np.linalg.matrix_rank(Rmat) != m:\n",
    "        raise ValueError()\n",
    "    else:\n",
    "        return np.linalg.inv(Rmat) @ W\n",
    "    #raise NotImplementedError()  # Delete this line once you implement your code"
   ]
  },
  {
   "cell_type": "code",
   "execution_count": 43,
   "metadata": {
    "collapsed": false,
    "deletable": false,
    "editable": false,
    "nbgrader": {
     "grade": true,
     "grade_id": "1deae7",
     "locked": true,
     "points": 25,
     "schema_version": 3,
     "solution": false,
     "task": false
    }
   },
   "outputs": [],
   "source": [
    "\n",
    "# check implementation\n",
    "\n",
    "np.testing.assert_allclose(replication_strategy (np.array([[1,1,1],[1,1,0],[1,0,0]]),np.ones(3)), np.array([1,0,0]) , atol = 1e-10)\n",
    "assert_raises(ValueError, replication_strategy, np.ones((4,4)), np.ones(4))\n",
    "\n",
    "\n"
   ]
  },
  {
   "cell_type": "markdown",
   "metadata": {
    "collapsed": false,
    "deletable": false,
    "editable": false,
    "nbgrader": {
     "grade": false,
     "grade_id": "q-price",
     "locked": true,
     "schema_version": 3,
     "solution": false,
     "task": false
    }
   },
   "source": [
    "**Q3. Define a function that calculates the replication price of the condor option on the 'i'th asset (as defined previously) . The function should receive the parameters of the condor option, an integer 'i' signalling the asset over which it is defined, a vector with asset prices at zero ($S_0$) and the return matrix ($R_{mat}$)** [25 marks]\n",
    "\n",
    "*Hint: You can (probably should) use the functions defined before (even if they are not working correctly).*\n",
    "\n"
   ]
  },
  {
   "cell_type": "code",
   "execution_count": 72,
   "metadata": {
    "collapsed": false,
    "deletable": false,
    "nbgrader": {
     "cell_type": "code",
     "checksum": "9f9c81edd90d583540e7bd8c7ca0f901",
     "grade": false,
     "grade_id": "9d35ca",
     "locked": false,
     "schema_version": 3,
     "solution": true,
     "task": false
    }
   },
   "outputs": [],
   "source": [
    "def condor_price(x0,a,b,i,S0,Rmat):  # modify function name and parameters\n",
    "    \"\"\"\n",
    "    Computes the price of a condor option with parametres (x0,a,b) on the asset i, given initial market prices S0\n",
    "    and return matrix Rmat\n",
    "    \"\"\"\n",
    "    # YOUR CODE HERE\n",
    "    W = []\n",
    "    for S0i in S0:\n",
    "        W.append(condor_payoff(S0i, x0, a, b))\n",
    "    W = np.asarray(W)\n",
    "    stra = replication_strategy(Rmat, S0) #why not W\n",
    "    return stra[i]\n",
    "#    raise NotImplementedError()  # Delete this line once you implement your code\n",
    "#test\n",
    "#print(condor_price(10,2,3,1,np.array([1,10,3]),np.array([[1,1,1],[2,1,0.6],[1,1.5,0.8]])))"
   ]
  },
  {
   "cell_type": "code",
   "execution_count": 73,
   "metadata": {
    "collapsed": false,
    "deletable": false,
    "editable": false,
    "nbgrader": {
     "grade": true,
     "grade_id": "5ddf08",
     "locked": true,
     "points": 25,
     "schema_version": 3,
     "solution": false,
     "task": false
    }
   },
   "outputs": [],
   "source": [
    "# Check your solution\n",
    "\n",
    "assert math.isclose(condor_price(10,2,3,1,np.array([1,10,3]),np.array([[1,1,1],[2,1,0.6],[1,1.5,0.8]])), 4/3, abs_tol=1e-10)\n",
    "assert_raises(ValueError, condor_price, 10,2,3,1,np.array([1,10,3]), np.ones((3,3)) )\n",
    "\n"
   ]
  },
  {
   "cell_type": "markdown",
   "metadata": {
    "collapsed": false,
    "deletable": false,
    "editable": false,
    "nbgrader": {
     "grade": false,
     "grade_id": "5bfbd0",
     "locked": true,
     "schema_version": 3,
     "solution": false,
     "task": false
    }
   },
   "source": [
    "**Q4. A pure investor has a constant absolute risk aversion $\\rho> 0$.  Write a function that returns the optimal strategy, in terms of  the *proportion invested*, for this investor in the discrete one-period market model given before, assuming it has an initial wealth $w_0=1$.**\n",
    "\n",
    "**The function should receive the value of $\\rho$, the market return matrix $R_{mat}$, and the probabilities vector $p$. It should return the optimal portfolio for this investor expressed as an (n+1)-dimensional array, or None if no solution is found.** [25 marks]\n",
    "\n"
   ]
  },
  {
   "cell_type": "code",
   "execution_count": 70,
   "metadata": {
    "collapsed": false,
    "deletable": false,
    "nbgrader": {
     "cell_type": "code",
     "checksum": "9a93cdca76a6886cea07769207afe393",
     "grade": false,
     "grade_id": "ab676e",
     "locked": false,
     "schema_version": 3,
     "solution": true,
     "task": false
    }
   },
   "outputs": [],
   "source": [
    "def optimal_strategy(Rmat, p, rho):\n",
    "    \"\"\"\n",
    "    Compute optimal strategy for the investor with a constant absolute risk aversion equal to one and initial wealth w0\n",
    "    \"\"\"\n",
    "    # YOUR CODE HERE\n",
    "    n = 1000\n",
    "    x_hat = np.array(0)\n",
    "    sol = minimize(lambda x: Rmat@p, x_hat)\n",
    "    if sol['success']:\n",
    "        return sol['x'], -1 * sol['fun']\n",
    "    else:\n",
    "        return None\n",
    "    \n",
    "    #raise NotImplementedError()  # Delete this line once you implement your code"
   ]
  },
  {
   "cell_type": "code",
   "execution_count": 71,
   "metadata": {
    "collapsed": false,
    "deletable": false,
    "editable": false,
    "nbgrader": {
     "grade": true,
     "grade_id": "24495f",
     "locked": true,
     "points": 25,
     "schema_version": 3,
     "solution": false,
     "task": false
    }
   },
   "outputs": [
    {
     "ename": "ValueError",
     "evalue": "The user-provided objective function must return a scalar value.",
     "output_type": "error",
     "traceback": [
      "\u001b[0;31m---------------------------------------------------------------------------\u001b[0m",
      "\u001b[0;31mValueError\u001b[0m                                Traceback (most recent call last)",
      "\u001b[0;32m/usr/local/lib/python3.8/dist-packages/scipy/optimize/optimize.py\u001b[0m in \u001b[0;36m_minimize_bfgs\u001b[0;34m(fun, x0, args, jac, callback, gtol, norm, eps, maxiter, disp, return_all, finite_diff_rel_step, **unknown_options)\u001b[0m\n\u001b[1;32m   1211\u001b[0m         \u001b[0;32mtry\u001b[0m\u001b[0;34m:\u001b[0m\u001b[0;34m\u001b[0m\u001b[0;34m\u001b[0m\u001b[0m\n\u001b[0;32m-> 1212\u001b[0;31m             \u001b[0mold_fval\u001b[0m \u001b[0;34m=\u001b[0m \u001b[0mold_fval\u001b[0m\u001b[0;34m.\u001b[0m\u001b[0mitem\u001b[0m\u001b[0;34m(\u001b[0m\u001b[0;34m)\u001b[0m\u001b[0;34m\u001b[0m\u001b[0;34m\u001b[0m\u001b[0m\n\u001b[0m\u001b[1;32m   1213\u001b[0m         \u001b[0;32mexcept\u001b[0m \u001b[0;34m(\u001b[0m\u001b[0mValueError\u001b[0m\u001b[0;34m,\u001b[0m \u001b[0mAttributeError\u001b[0m\u001b[0;34m)\u001b[0m \u001b[0;32mas\u001b[0m \u001b[0me\u001b[0m\u001b[0;34m:\u001b[0m\u001b[0;34m\u001b[0m\u001b[0;34m\u001b[0m\u001b[0m\n",
      "\u001b[0;31mValueError\u001b[0m: can only convert an array of size 1 to a Python scalar",
      "\nThe above exception was the direct cause of the following exception:\n",
      "\u001b[0;31mValueError\u001b[0m                                Traceback (most recent call last)",
      "\u001b[0;32m/tmp/ipykernel_621/2340403663.py\u001b[0m in \u001b[0;36m<cell line: 4>\u001b[0;34m()\u001b[0m\n\u001b[1;32m      2\u001b[0m \u001b[0;34m\u001b[0m\u001b[0m\n\u001b[1;32m      3\u001b[0m \u001b[0;34m\u001b[0m\u001b[0m\n\u001b[0;32m----> 4\u001b[0;31m \u001b[0mnp\u001b[0m\u001b[0;34m.\u001b[0m\u001b[0mtesting\u001b[0m\u001b[0;34m.\u001b[0m\u001b[0massert_allclose\u001b[0m\u001b[0;34m(\u001b[0m\u001b[0moptimal_strategy\u001b[0m \u001b[0;34m(\u001b[0m\u001b[0mnp\u001b[0m\u001b[0;34m.\u001b[0m\u001b[0marray\u001b[0m\u001b[0;34m(\u001b[0m\u001b[0;34m[\u001b[0m\u001b[0;34m[\u001b[0m\u001b[0;36m1\u001b[0m\u001b[0;34m,\u001b[0m\u001b[0;36m1\u001b[0m\u001b[0;34m]\u001b[0m\u001b[0;34m,\u001b[0m\u001b[0;34m[\u001b[0m\u001b[0;36m1.25\u001b[0m\u001b[0;34m,\u001b[0m\u001b[0;36m0.5\u001b[0m\u001b[0;34m]\u001b[0m\u001b[0;34m]\u001b[0m\u001b[0;34m)\u001b[0m\u001b[0;34m,\u001b[0m\u001b[0mnp\u001b[0m\u001b[0;34m.\u001b[0m\u001b[0marray\u001b[0m\u001b[0;34m(\u001b[0m\u001b[0;34m[\u001b[0m\u001b[0;36m2\u001b[0m\u001b[0;34m/\u001b[0m\u001b[0;36m3\u001b[0m\u001b[0;34m,\u001b[0m\u001b[0;36m1\u001b[0m\u001b[0;34m/\u001b[0m\u001b[0;36m3\u001b[0m\u001b[0;34m]\u001b[0m\u001b[0;34m)\u001b[0m\u001b[0;34m,\u001b[0m \u001b[0;36m2\u001b[0m\u001b[0;34m)\u001b[0m \u001b[0;34m,\u001b[0m \u001b[0mnp\u001b[0m\u001b[0;34m.\u001b[0m\u001b[0marray\u001b[0m\u001b[0;34m(\u001b[0m\u001b[0;34m[\u001b[0m\u001b[0;36m1\u001b[0m\u001b[0;34m,\u001b[0m\u001b[0;36m0\u001b[0m\u001b[0;34m]\u001b[0m\u001b[0;34m)\u001b[0m \u001b[0;34m,\u001b[0m\u001b[0matol\u001b[0m \u001b[0;34m=\u001b[0m \u001b[0;36m5e-2\u001b[0m\u001b[0;34m,\u001b[0m\u001b[0mrtol\u001b[0m\u001b[0;34m=\u001b[0m\u001b[0;36m5e-2\u001b[0m\u001b[0;34m)\u001b[0m\u001b[0;34m\u001b[0m\u001b[0;34m\u001b[0m\u001b[0m\n\u001b[0m",
      "\u001b[0;32m/tmp/ipykernel_621/2310049056.py\u001b[0m in \u001b[0;36moptimal_strategy\u001b[0;34m(Rmat, p, rho)\u001b[0m\n\u001b[1;32m      6\u001b[0m     \u001b[0mn\u001b[0m \u001b[0;34m=\u001b[0m \u001b[0;36m1000\u001b[0m\u001b[0;34m\u001b[0m\u001b[0;34m\u001b[0m\u001b[0m\n\u001b[1;32m      7\u001b[0m     \u001b[0mx_hat\u001b[0m \u001b[0;34m=\u001b[0m \u001b[0mnp\u001b[0m\u001b[0;34m.\u001b[0m\u001b[0marray\u001b[0m\u001b[0;34m(\u001b[0m\u001b[0;36m0\u001b[0m\u001b[0;34m)\u001b[0m\u001b[0;34m\u001b[0m\u001b[0;34m\u001b[0m\u001b[0m\n\u001b[0;32m----> 8\u001b[0;31m     \u001b[0msol\u001b[0m \u001b[0;34m=\u001b[0m \u001b[0mminimize\u001b[0m\u001b[0;34m(\u001b[0m\u001b[0;32mlambda\u001b[0m \u001b[0mx\u001b[0m\u001b[0;34m:\u001b[0m \u001b[0mRmat\u001b[0m\u001b[0;34m@\u001b[0m\u001b[0mp\u001b[0m\u001b[0;34m,\u001b[0m \u001b[0mx_hat\u001b[0m\u001b[0;34m)\u001b[0m\u001b[0;34m\u001b[0m\u001b[0;34m\u001b[0m\u001b[0m\n\u001b[0m\u001b[1;32m      9\u001b[0m     \u001b[0;32mif\u001b[0m \u001b[0msol\u001b[0m\u001b[0;34m[\u001b[0m\u001b[0;34m'success'\u001b[0m\u001b[0;34m]\u001b[0m\u001b[0;34m:\u001b[0m\u001b[0;34m\u001b[0m\u001b[0;34m\u001b[0m\u001b[0m\n\u001b[1;32m     10\u001b[0m         \u001b[0;32mreturn\u001b[0m \u001b[0msol\u001b[0m\u001b[0;34m[\u001b[0m\u001b[0;34m'x'\u001b[0m\u001b[0;34m]\u001b[0m\u001b[0;34m,\u001b[0m \u001b[0;34m-\u001b[0m\u001b[0;36m1\u001b[0m \u001b[0;34m*\u001b[0m \u001b[0msol\u001b[0m\u001b[0;34m[\u001b[0m\u001b[0;34m'fun'\u001b[0m\u001b[0;34m]\u001b[0m\u001b[0;34m\u001b[0m\u001b[0;34m\u001b[0m\u001b[0m\n",
      "\u001b[0;32m/usr/local/lib/python3.8/dist-packages/scipy/optimize/_minimize.py\u001b[0m in \u001b[0;36mminimize\u001b[0;34m(fun, x0, args, method, jac, hess, hessp, bounds, constraints, tol, callback, options)\u001b[0m\n\u001b[1;32m    616\u001b[0m         \u001b[0;32mreturn\u001b[0m \u001b[0m_minimize_cg\u001b[0m\u001b[0;34m(\u001b[0m\u001b[0mfun\u001b[0m\u001b[0;34m,\u001b[0m \u001b[0mx0\u001b[0m\u001b[0;34m,\u001b[0m \u001b[0margs\u001b[0m\u001b[0;34m,\u001b[0m \u001b[0mjac\u001b[0m\u001b[0;34m,\u001b[0m \u001b[0mcallback\u001b[0m\u001b[0;34m,\u001b[0m \u001b[0;34m**\u001b[0m\u001b[0moptions\u001b[0m\u001b[0;34m)\u001b[0m\u001b[0;34m\u001b[0m\u001b[0;34m\u001b[0m\u001b[0m\n\u001b[1;32m    617\u001b[0m     \u001b[0;32melif\u001b[0m \u001b[0mmeth\u001b[0m \u001b[0;34m==\u001b[0m \u001b[0;34m'bfgs'\u001b[0m\u001b[0;34m:\u001b[0m\u001b[0;34m\u001b[0m\u001b[0;34m\u001b[0m\u001b[0m\n\u001b[0;32m--> 618\u001b[0;31m         \u001b[0;32mreturn\u001b[0m \u001b[0m_minimize_bfgs\u001b[0m\u001b[0;34m(\u001b[0m\u001b[0mfun\u001b[0m\u001b[0;34m,\u001b[0m \u001b[0mx0\u001b[0m\u001b[0;34m,\u001b[0m \u001b[0margs\u001b[0m\u001b[0;34m,\u001b[0m \u001b[0mjac\u001b[0m\u001b[0;34m,\u001b[0m \u001b[0mcallback\u001b[0m\u001b[0;34m,\u001b[0m \u001b[0;34m**\u001b[0m\u001b[0moptions\u001b[0m\u001b[0;34m)\u001b[0m\u001b[0;34m\u001b[0m\u001b[0;34m\u001b[0m\u001b[0m\n\u001b[0m\u001b[1;32m    619\u001b[0m     \u001b[0;32melif\u001b[0m \u001b[0mmeth\u001b[0m \u001b[0;34m==\u001b[0m \u001b[0;34m'newton-cg'\u001b[0m\u001b[0;34m:\u001b[0m\u001b[0;34m\u001b[0m\u001b[0;34m\u001b[0m\u001b[0m\n\u001b[1;32m    620\u001b[0m         return _minimize_newtoncg(fun, x0, args, jac, hess, hessp, callback,\n",
      "\u001b[0;32m/usr/local/lib/python3.8/dist-packages/scipy/optimize/optimize.py\u001b[0m in \u001b[0;36m_minimize_bfgs\u001b[0;34m(fun, x0, args, jac, callback, gtol, norm, eps, maxiter, disp, return_all, finite_diff_rel_step, **unknown_options)\u001b[0m\n\u001b[1;32m   1212\u001b[0m             \u001b[0mold_fval\u001b[0m \u001b[0;34m=\u001b[0m \u001b[0mold_fval\u001b[0m\u001b[0;34m.\u001b[0m\u001b[0mitem\u001b[0m\u001b[0;34m(\u001b[0m\u001b[0;34m)\u001b[0m\u001b[0;34m\u001b[0m\u001b[0;34m\u001b[0m\u001b[0m\n\u001b[1;32m   1213\u001b[0m         \u001b[0;32mexcept\u001b[0m \u001b[0;34m(\u001b[0m\u001b[0mValueError\u001b[0m\u001b[0;34m,\u001b[0m \u001b[0mAttributeError\u001b[0m\u001b[0;34m)\u001b[0m \u001b[0;32mas\u001b[0m \u001b[0me\u001b[0m\u001b[0;34m:\u001b[0m\u001b[0;34m\u001b[0m\u001b[0;34m\u001b[0m\u001b[0m\n\u001b[0;32m-> 1214\u001b[0;31m             raise ValueError(\"The user-provided \"\n\u001b[0m\u001b[1;32m   1215\u001b[0m                              \u001b[0;34m\"objective function must \"\u001b[0m\u001b[0;34m\u001b[0m\u001b[0;34m\u001b[0m\u001b[0m\n\u001b[1;32m   1216\u001b[0m                              \"return a scalar value.\") from e\n",
      "\u001b[0;31mValueError\u001b[0m: The user-provided objective function must return a scalar value."
     ]
    }
   ],
   "source": [
    "\n",
    "# Check your solution\n",
    "\n",
    "\n",
    "np.testing.assert_allclose(optimal_strategy (np.array([[1,1],[1.25,0.5]]),np.array([2/3,1/3]), 2) , np.array([1,0]) ,atol = 5e-2,rtol=5e-2)\n",
    "\n"
   ]
  },
  {
   "cell_type": "code",
   "execution_count": null,
   "metadata": {
    "collapsed": false
   },
   "outputs": [],
   "source": []
  }
 ],
 "metadata": {
  "kernelspec": {
   "display_name": "Python 3 (system-wide)",
   "language": "python",
   "metadata": {
    "cocalc": {
     "description": "Python 3 programming language",
     "priority": 100,
     "url": "https://www.python.org/"
    }
   },
   "name": "python3",
   "resource_dir": "/ext/jupyter/kernels/python3"
  },
  "language_info": {
   "codemirror_mode": {
    "name": "ipython",
    "version": 3
   },
   "file_extension": ".py",
   "mimetype": "text/x-python",
   "name": "python",
   "nbconvert_exporter": "python",
   "pygments_lexer": "ipython3",
   "version": "3.8.10"
  },
  "nbgrader": {
   "__altered": false,
   "__hash": -335098374,
   "_root": {
    "entries": [
     [
      "cocalc_minimal_stubs",
      false
     ]
    ],
    "ownerID": {}
   },
   "cocalc_minimal_stubs": false,
   "size": 1
  }
 },
 "nbformat": 4,
 "nbformat_minor": 4
}
