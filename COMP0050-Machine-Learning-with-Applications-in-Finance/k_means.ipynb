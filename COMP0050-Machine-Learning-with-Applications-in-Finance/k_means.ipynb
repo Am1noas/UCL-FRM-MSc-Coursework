{
 "cells": [
  {
   "cell_type": "code",
   "execution_count": 208,
   "metadata": {},
   "outputs": [],
   "source": [
    "# Step 1: Import packages, functions, and classes\n",
    "import numpy as np\n",
    "import pandas as pd\n",
    "from pprint import pprint\n",
    "import matplotlib.pyplot as plt\n",
    "%matplotlib inline\n",
    "plt.rcParams[\"figure.figsize\"] = [10, 5]"
   ]
  },
  {
   "cell_type": "code",
   "execution_count": 216,
   "metadata": {},
   "outputs": [
    {
     "name": "stderr",
     "output_type": "stream",
     "text": [
      "C:\\Users\\Lsj_Mark10\\AppData\\Local\\Temp\\ipykernel_76772\\2373045844.py:2: DtypeWarning: Columns (3,11,15,20,26,27,33,38) have mixed types. Specify dtype option on import or set low_memory=False.\n",
      "  return_data = pd.read_csv('COMP0050_CourseworkData\\Average_Equal_Weighted_Returns.csv', index_col = 0)\n"
     ]
    }
   ],
   "source": [
    "# Step 2: Data Processing\n",
    "return_data = pd.read_csv('COMP0050_CourseworkData\\Average_Equal_Weighted_Returns.csv', index_col = 0)\n",
    "return_data = return_data.replace(' NaN', np.nan).dropna()\n",
    "a = return_data.shape\n",
    "for i in range(a[0]):\n",
    "    for j in range(a[1]):\n",
    "        if type(return_data.iloc[i,j]) != np.float64:\n",
    "            return_data.iloc[i,j] = np.float64(return_data.iloc[i,j])\n",
    "data = return_data.T\n"
   ]
  },
  {
   "attachments": {},
   "cell_type": "markdown",
   "metadata": {},
   "source": [
    "#### K-Means Clustering"
   ]
  },
  {
   "cell_type": "code",
   "execution_count": 217,
   "metadata": {},
   "outputs": [
    {
     "name": "stderr",
     "output_type": "stream",
     "text": [
      "c:\\Program_Files_Work\\Anaconda3\\lib\\site-packages\\sklearn\\cluster\\_kmeans.py:1036: UserWarning: KMeans is known to have a memory leak on Windows with MKL, when there are less chunks than available threads. You can avoid it by setting the environment variable OMP_NUM_THREADS=1.\n",
      "  warnings.warn(\n"
     ]
    },
    {
     "data": {
      "image/png": "[encoded data removed]",
      "text/plain": [
       "<Figure size 1152x576 with 1 Axes>"
      ]
     },
     "metadata": {
      "needs_background": "light"
     },
     "output_type": "display_data"
    }
   ],
   "source": [
    "# Step 3: Create a model\n",
    "#from kneed import KneeLocator\n",
    "from sklearn.datasets import make_blobs\n",
    "from sklearn.cluster import KMeans\n",
    "from sklearn.metrics import silhouette_score\n",
    "from sklearn.preprocessing import StandardScaler\n",
    "\n",
    "# Step 4: Evaluate the model\n",
    "distortions = []\n",
    "K = range(1,30)\n",
    "for k in K:\n",
    "    kmeanModel = KMeans(n_clusters=k)\n",
    "    kmeanModel.fit(data)\n",
    "    distortions.append(kmeanModel.inertia_)\n",
    "\n",
    "plt.figure(figsize=(16,8))\n",
    "plt.plot(K, distortions, 'bx-')\n",
    "plt.xlabel('k')\n",
    "plt.ylabel('Distortion')\n",
    "plt.title('The Elbow Method showing the optimal k')\n",
    "plt.show()\n",
    "\n",
    "\n",
    "\n",
    "\n",
    "#features, true_labels = make_blobs(n_samples = 200, centers = 3, cluster_std = 2.75, random_state = 42)\n",
    "#scaler = StandardScaler()\n",
    "#scaled_features = scaler.fit_transform(features)\n",
    "#scaled_features[:5]\n",
    "\n",
    "\n"
   ]
  },
  {
   "cell_type": "code",
   "execution_count": 230,
   "metadata": {},
   "outputs": [
    {
     "name": "stdout",
     "output_type": "stream",
     "text": [
      "[1 1 1 1 0 3 3 1 1 1 3 3 3 1 1 1 1 1 1 1 1 3 1 1 1 1 2 1 4 1 1 3 1 3 3 3 3\n",
      " 1 1 1 1 1 1 1 1 1 1 3]\n",
      "Cluster 0 has industries: ['Smoke'] \n",
      "\n",
      "Cluster 1 has industries: ['Agric' 'Food ' 'Soda ' 'Beer ' 'Books' 'Hshld' 'Clths' 'Chems' 'Rubbr'\n",
      " 'Txtls' 'BldMt' 'Cnstr' 'Steel' 'FabPr' 'Mach ' 'Autos' 'Aero ' 'Ships'\n",
      " 'Guns ' 'Mines' 'Oil  ' 'Util ' 'PerSv' 'Paper' 'Boxes' 'Trans' 'Whlsl'\n",
      " 'Rtail' 'Meals' 'Banks' 'Insur' 'RlEst' 'Fin  '] \n",
      "\n",
      "Cluster 2 has industries: ['Gold '] \n",
      "\n",
      "Cluster 3 has industries: ['Toys ' 'Fun  ' 'Hlth ' 'MedEq' 'Drugs' 'ElcEq' 'Telcm' 'BusSv' 'Comps'\n",
      " 'Chips' 'LabEq' 'Other'] \n",
      "\n",
      "Cluster 4 has industries: ['Coal '] \n",
      "\n"
     ]
    }
   ],
   "source": [
    "#Initialize the class object\n",
    "cluster_numbers = 5\n",
    "kmeans = KMeans(n_clusters = cluster_numbers)\n",
    "#predict the labels of clusters.\n",
    "label = kmeans.fit_predict(data)\n",
    "print(label)\n",
    "#Getting unique labels\n",
    "u_labels = np.unique(label)\n",
    "for i in range(cluster_numbers):\n",
    "    print('Cluster', i, 'has industries:', data.index[label == i].values, '\\n')"
   ]
  },
  {
   "cell_type": "code",
   "execution_count": 219,
   "metadata": {},
   "outputs": [
    {
     "name": "stdout",
     "output_type": "stream",
     "text": [
      "Util      676.25\n",
      "Coal      730.76\n",
      "Txtls     742.59\n",
      "Steel     743.06\n",
      "Paper     779.99\n",
      "Autos     808.32\n",
      "Ships     810.41\n",
      "Agric      819.6\n",
      "Hshld     834.74\n",
      "Rtail     838.07\n",
      "Books     839.25\n",
      "FabPr     840.32\n",
      "Trans     843.54\n",
      "Toys      864.51\n",
      "Boxes     872.05\n",
      "Clths     884.47\n",
      "Food      890.97\n",
      "Meals     898.58\n",
      "PerSv     899.53\n",
      "Other     903.65\n",
      "Whlsl     908.75\n",
      "RlEst     912.17\n",
      "Beer      913.07\n",
      "Chems     916.02\n",
      "Telcm     925.79\n",
      "Cnstr     927.43\n",
      "Insur     930.69\n",
      "Soda      950.69\n",
      "BldMt      951.2\n",
      "Banks     953.08\n",
      "Mach      953.24\n",
      "Fin       956.53\n",
      "Oil       979.21\n",
      "Comps     982.34\n",
      "Fun      1030.29\n",
      "Mines    1046.73\n",
      "MedEq     1050.0\n",
      "ElcEq    1054.59\n",
      "Rubbr    1062.02\n",
      "BusSv    1071.51\n",
      "Aero     1073.55\n",
      "Smoke    1096.87\n",
      "Hlth     1108.53\n",
      "Guns     1110.35\n",
      "Chips    1146.04\n",
      "Drugs    1147.63\n",
      "Gold     1267.17\n",
      "LabEq    1281.88\n",
      "dtype: object\n"
     ]
    }
   ],
   "source": [
    "avg_return = pd.Series(np.sum(return_data), index = return_data.columns)\n",
    "print(avg_return.sort_values())\n",
    "\n"
   ]
  },
  {
   "attachments": {},
   "cell_type": "markdown",
   "metadata": {},
   "source": [
    "####  Expectation-Maximisation Algorithm"
   ]
  },
  {
   "cell_type": "code",
   "execution_count": null,
   "metadata": {},
   "outputs": [],
   "source": [
    "from scipy import stats, special\n",
    "def get_random_psd(n):\n",
    "    x = np.random.normal(0, 1, size=(n, n))\n",
    "    return np.dot(x, x.transpose())\n",
    "\n",
    "\n",
    "def initialize_random_params():\n",
    "    params = {'phi': np.random.uniform(0, 1),\n",
    "              'mu0': np.random.normal(0, 1, size=(2,)),\n",
    "              'mu1': np.random.normal(0, 1, size=(2,)),\n",
    "              'sigma0': get_random_psd(2),\n",
    "              'sigma1': get_random_psd(2)}\n",
    "    return params\n",
    "\n",
    "def e_step(x, params):\n",
    "    np.log([stats.multivariate_normal(params[\"mu0\"], params[\"sigma0\"]).pdf(x),\n",
    "            #stats.multivariate_normal(params[\"mu1\"], params[\"sigma1\"]).pdf(x)])\n",
    "    log_p_y_x = np.log([1-params[\"phi\"], params[\"phi\"]])[np.newaxis, ...] + \\\n",
    "                np.log([stats.multivariate_normal(params[\"mu0\"], params[\"sigma0\"]).pdf(x),\n",
    "            stats.multivariate_normal(params[\"mu1\"], params[\"sigma1\"]).pdf(x)]).T\n",
    "    log_p_y_x_norm = logsumexp(log_p_y_x, axis=1)\n",
    "    return log_p_y_x_norm, np.exp(log_p_y_x - log_p_y_x_norm[..., np.newaxis])\n",
    "\n",
    "\n",
    "def m_step(x, params):\n",
    "    total_count = x.shape[0]\n",
    "    _, heuristics = e_step(x, params)\n",
    "    heuristic0 = heuristics[:, 0]\n",
    "    heuristic1 = heuristics[:, 1]\n",
    "    sum_heuristic1 = np.sum(heuristic1)\n",
    "    sum_heuristic0 = np.sum(heuristic0)\n",
    "    phi = (sum_heuristic1/total_count)\n",
    "    mu0 = (heuristic0[..., np.newaxis].T.dot(x)/sum_heuristic0).flatten()\n",
    "    mu1 = (heuristic1[..., np.newaxis].T.dot(x)/sum_heuristic1).flatten()\n",
    "    diff0 = x - mu0\n",
    "    sigma0 = diff0.T.dot(diff0 * heuristic0[..., np.newaxis]) / sum_heuristic0\n",
    "    diff1 = x - mu1\n",
    "    sigma1 = diff1.T.dot(diff1 * heuristic1[..., np.newaxis]) / sum_heuristic1\n",
    "    params = {'phi': phi, 'mu0': mu0, 'mu1': mu1, 'sigma0': sigma0, 'sigma1': sigma1}\n",
    "    return params\n",
    "\n",
    "\n",
    "def get_avg_log_likelihood(x, params):\n",
    "    loglikelihood, _ = e_step(x, params)\n",
    "    return np.mean(loglikelihood)\n",
    "\n",
    "\n",
    "def run_em(x, params):\n",
    "    avg_loglikelihoods = []\n",
    "    while True:\n",
    "        avg_loglikelihood = get_avg_log_likelihood(x, params)\n",
    "        avg_loglikelihoods.append(avg_loglikelihood)\n",
    "        if len(avg_loglikelihoods) > 2 and abs(avg_loglikelihoods[-1] - avg_loglikelihoods[-2]) < 0.0001:\n",
    "            break\n",
    "        params = m_step(x, params)\n",
    "    print(\"\\tphi: %s\\n\\tmu_0: %s\\n\\tmu_1: %s\\n\\tsigma_0: %s\\n\\tsigma_1: %s\"\n",
    "               % (params['phi'], params['mu0'], params['mu1'], params['sigma0'], params['sigma1']))\n",
    "    _, posterior = e_step(x, params)\n",
    "    forecasts = np.argmax(posterior, axis=1)\n",
    "    return forecasts, posterior, avg_loglikelihoods\n",
    "\n",
    "random_params = initialize_random_params()\n",
    "unsupervised_forecastsforecasts, unsupervised_posterior, unsupervised_loglikelihoods = run_em(data, random_params)\n",
    "print(\"total steps: \", len(unsupervised_loglikelihoods))\n",
    "plt.plot(unsupervised_loglikelihoods)\n",
    "plt.title(\"unsupervised log likelihoods\")\n",
    "plt.savefig(\"unsupervised.png\")\n",
    "plt.close()"
   ]
  },
  {
   "attachments": {},
   "cell_type": "markdown",
   "metadata": {},
   "source": [
    "#### Hierarchical Clustering"
   ]
  },
  {
   "cell_type": "code",
   "execution_count": 235,
   "metadata": {},
   "outputs": [
    {
     "data": {
      "image/png": "[encoded data removed]",
      "text/plain": [
       "<Figure size 720x360 with 1 Axes>"
      ]
     },
     "metadata": {
      "needs_background": "light"
     },
     "output_type": "display_data"
    }
   ],
   "source": [
    "from scipy.cluster.hierarchy import dendrogram, linkage\n",
    "\n",
    "linkage_data = linkage(data, method='ward', metric='euclidean')\n",
    "dendrogram(linkage_data)\n",
    "\n",
    "plt.show()"
   ]
  },
  {
   "cell_type": "code",
   "execution_count": 234,
   "metadata": {},
   "outputs": [
    {
     "name": "stdout",
     "output_type": "stream",
     "text": [
      "[1 1 1 1 0 3 3 1 1 1 3 3 3 1 1 1 1 1 1 1 1 3 1 1 1 1 2 1 4 1 1 3 1 3 3 3 3\n",
      " 1 1 1 1 1 1 1 1 1 1 3]\n",
      "Cluster 0 has industries: ['Smoke'] \n",
      "\n",
      "Cluster 1 has industries: ['Agric' 'Food ' 'Soda ' 'Beer ' 'Books' 'Hshld' 'Clths' 'Chems' 'Rubbr'\n",
      " 'Txtls' 'BldMt' 'Cnstr' 'Steel' 'FabPr' 'Mach ' 'Autos' 'Aero ' 'Ships'\n",
      " 'Guns ' 'Mines' 'Oil  ' 'Util ' 'PerSv' 'Paper' 'Boxes' 'Trans' 'Whlsl'\n",
      " 'Rtail' 'Meals' 'Banks' 'Insur' 'RlEst' 'Fin  '] \n",
      "\n",
      "Cluster 2 has industries: ['Gold '] \n",
      "\n",
      "Cluster 3 has industries: ['Toys ' 'Fun  ' 'Hlth ' 'MedEq' 'Drugs' 'ElcEq' 'Telcm' 'BusSv' 'Comps'\n",
      " 'Chips' 'LabEq' 'Other'] \n",
      "\n",
      "Cluster 4 has industries: ['Coal '] \n",
      "\n"
     ]
    }
   ],
   "source": [
    "from sklearn.cluster import AgglomerativeClustering\n",
    "hierarchical_cluster = AgglomerativeClustering(n_clusters=2, affinity='euclidean', linkage='ward')\n",
    "labels = hierarchical_cluster.fit_predict(data)\n",
    "\n",
    "print(label)\n",
    "#Getting unique labels\n",
    "u_labels = np.unique(label)\n",
    "for i in range(cluster_numbers):\n",
    "    print('Cluster', i, 'has industries:', data.index[label == i].values, '\\n')"
   ]
  },
  {
   "cell_type": "code",
   "execution_count": null,
   "metadata": {},
   "outputs": [],
   "source": []
  },
  {
   "cell_type": "code",
   "execution_count": null,
   "metadata": {},
   "outputs": [],
   "source": []
  }
 ],
 "metadata": {
  "kernelspec": {
   "display_name": "base",
   "language": "python",
   "name": "python3"
  },
  "language_info": {
   "codemirror_mode": {
    "name": "ipython",
    "version": 3
   },
   "file_extension": ".py",
   "mimetype": "text/x-python",
   "name": "python",
   "nbconvert_exporter": "python",
   "pygments_lexer": "ipython3",
   "version": "3.9.12"
  },
  "orig_nbformat": 4
 },
 "nbformat": 4,
 "nbformat_minor": 2
}
